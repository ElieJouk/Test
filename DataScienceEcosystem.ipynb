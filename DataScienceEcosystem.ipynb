{
 "cells": [
  {
   "cell_type": "markdown",
   "id": "7dd56493-6350-40e4-9d7b-dd7fe1629293",
   "metadata": {},
   "source": [
    "# Data Science Tools and Ecosystem"
   ]
  },
  {
   "cell_type": "markdown",
   "id": "a1b46e81-36bf-4484-afd3-bcda4a42abc7",
   "metadata": {},
   "source": [
    "In this notebook, Data Science Tools and Ecosystem are summarized."
   ]
  },
  {
   "cell_type": "markdown",
   "id": "77c92576-db8a-4233-b2e2-d332758fe6a0",
   "metadata": {},
   "source": [
    "Some of the popular languages that Data Scientists use are:\n",
    "1. Python\n",
    "2. SQL\n",
    "3. R\n"
   ]
  },
  {
   "cell_type": "markdown",
   "id": "a2b72ea8-f0b2-4eba-9ad6-f93757e8874b",
   "metadata": {},
   "source": [
    "**Objectives**\n",
    "-  language\n",
    "-  tools\n",
    "-  librairies\n"
   ]
  },
  {
   "cell_type": "markdown",
   "id": "3d43db9c-5973-4e9e-a45d-8b4d3b20b25c",
   "metadata": {},
   "source": [
    "Some of the commonly used libraries used by Data Scientists include:\n",
    "1. Panda\n",
    "2. Numpy\n",
    "3. SciPy"
   ]
  },
  {
   "cell_type": "markdown",
   "id": "1ed97b2a-62a0-4f62-926f-74c54febcab7",
   "metadata": {},
   "source": [
    "<table style=\"width:20%\">\n",
    "<tr>\n",
    "<th><Python></th>\n",
    "<th><R></th>\n",
    "<th><julia></th>\n",
    "</tr>"
   ]
  },
  {
   "cell_type": "markdown",
   "id": "117644c7-69f6-4352-8c0a-505835bed79d",
   "metadata": {},
   "source": [
    "### Below are a few examples of evaluating arithmetic expressions in Python"
   ]
  },
  {
   "cell_type": "code",
   "execution_count": 1,
   "id": "810ddae7-78ff-4dcd-8d20-a42b65f7559f",
   "metadata": {},
   "outputs": [
    {
     "data": {
      "text/plain": [
       "17"
      ]
     },
     "execution_count": 1,
     "metadata": {},
     "output_type": "execute_result"
    }
   ],
   "source": [
    "#This a simple arithmetic expression to mutiply then add integers\n",
    "(3*4)+5"
   ]
  },
  {
   "cell_type": "code",
   "execution_count": 2,
   "id": "130cbfed-6535-44e3-b223-7ae4a5d46fc2",
   "metadata": {},
   "outputs": [
    {
     "data": {
      "text/plain": [
       "3.3333333333333335"
      ]
     },
     "execution_count": 2,
     "metadata": {},
     "output_type": "execute_result"
    }
   ],
   "source": [
    " #This will convert 200 minutes to hours by diving by 60\n",
    " 200/60   "
   ]
  },
  {
   "cell_type": "markdown",
   "id": "b7c7339d-2269-482f-b97c-95560bb1ef57",
   "metadata": {},
   "source": [
    "## Author \n",
    "Elie Joukhadar"
   ]
  }
 ],
 "metadata": {
  "kernelspec": {
   "display_name": "Python",
   "language": "python",
   "name": "conda-env-python-py"
  },
  "language_info": {
   "codemirror_mode": {
    "name": "ipython",
    "version": 3
   },
   "file_extension": ".py",
   "mimetype": "text/x-python",
   "name": "python",
   "nbconvert_exporter": "python",
   "pygments_lexer": "ipython3",
   "version": "3.7.12"
  }
 },
 "nbformat": 4,
 "nbformat_minor": 5
}
